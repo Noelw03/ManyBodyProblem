{
 "cells": [
  {
   "cell_type": "code",
   "execution_count": 3,
   "metadata": {},
   "outputs": [
    {
     "ename": "UnboundLocalError",
     "evalue": "cannot access local variable 'force' where it is not associated with a value",
     "output_type": "error",
     "traceback": [
      "\u001b[0;31m---------------------------------------------------------------------------\u001b[0m",
      "\u001b[0;31mUnboundLocalError\u001b[0m                         Traceback (most recent call last)",
      "Cell \u001b[0;32mIn[3], line 13\u001b[0m\n\u001b[1;32m      9\u001b[0m \u001b[38;5;28;01mimport\u001b[39;00m \u001b[38;5;21;01mtime\u001b[39;00m\n\u001b[1;32m     11\u001b[0m rcParams[\u001b[38;5;124m'\u001b[39m\u001b[38;5;124manimation.embed_limit\u001b[39m\u001b[38;5;124m'\u001b[39m] \u001b[38;5;241m=\u001b[39m \u001b[38;5;241m1000\u001b[39m  \u001b[38;5;66;03m# Größere Animationen einbetten\u001b[39;00m\n\u001b[0;32m---> 13\u001b[0m size \u001b[38;5;241m=\u001b[39m \u001b[43mmain\u001b[49m\u001b[43m(\u001b[49m\u001b[43m)\u001b[49m  \u001b[38;5;66;03m# Ruft die `main()` Funktion auf und speichert die Größe der Welt\u001b[39;00m\n\u001b[1;32m     15\u001b[0m \u001b[38;5;66;03m# Lade die Simulationsdaten\u001b[39;00m\n\u001b[1;32m     16\u001b[0m \u001b[38;5;28;01mwith\u001b[39;00m \u001b[38;5;28mopen\u001b[39m(\u001b[38;5;124m\"\u001b[39m\u001b[38;5;124msimulation_data.json\u001b[39m\u001b[38;5;124m\"\u001b[39m, \u001b[38;5;124m\"\u001b[39m\u001b[38;5;124mr\u001b[39m\u001b[38;5;124m\"\u001b[39m) \u001b[38;5;28;01mas\u001b[39;00m file:\n",
      "File \u001b[0;32m/workspaces/ThreeBodyProblem/main.py:40\u001b[0m, in \u001b[0;36mmain\u001b[0;34m()\u001b[0m\n\u001b[1;32m     38\u001b[0m \u001b[38;5;28;01mfor\u001b[39;00m other_body \u001b[38;5;129;01min\u001b[39;00m world\u001b[38;5;241m.\u001b[39mbodies:\n\u001b[1;32m     39\u001b[0m     \u001b[38;5;28;01mif\u001b[39;00m other_body \u001b[38;5;241m!=\u001b[39m body:\n\u001b[0;32m---> 40\u001b[0m         \u001b[43mforce\u001b[49m \u001b[38;5;241m+\u001b[39m\u001b[38;5;241m=\u001b[39m body\u001b[38;5;241m.\u001b[39mcalculate_force(other_body)\n\u001b[1;32m     41\u001b[0m body\u001b[38;5;241m.\u001b[39mupdate_acceleration(force)\n\u001b[1;32m     42\u001b[0m body\u001b[38;5;241m.\u001b[39mupdate_velocity(world\u001b[38;5;241m.\u001b[39mdt)\n",
      "\u001b[0;31mUnboundLocalError\u001b[0m: cannot access local variable 'force' where it is not associated with a value"
     ]
    }
   ],
   "source": [
    "from main import main\n",
    "import json\n",
    "import numpy as np\n",
    "import matplotlib.pyplot as plt\n",
    "from mpl_toolkits.mplot3d import Axes3D\n",
    "from matplotlib.animation import FuncAnimation\n",
    "from IPython.display import HTML, display\n",
    "from matplotlib import rcParams\n",
    "import time\n",
    "\n",
    "rcParams['animation.embed_limit'] = 1000  # Größere Animationen einbetten\n",
    "\n",
    "size = main()  # Ruft die `main()` Funktion auf und speichert die Größe der Welt\n",
    "\n",
    "# Lade die Simulationsdaten\n",
    "with open(\"simulation_data.json\", \"r\") as file:\n",
    "    data = json.load(file)\n",
    "\n",
    "# Extrahiere die Zeitschritte und Anzahl der Körper\n",
    "timesteps = sorted(map(int, data.keys()))\n",
    "num_bodies = len(data[str(timesteps[0])][\"positions\"][0])  # Anzahl der Körper\n",
    "\n",
    "# Konvertiere JSON-Daten in NumPy-Arrays\n",
    "coordinates = [\n",
    "    np.array(data[str(t)][\"positions\"]).T for t in timesteps\n",
    "]\n",
    "\n",
    "# Initialisiere das 3D-Plot-Fenster\n",
    "fig = plt.figure(figsize=(8, 8))\n",
    "ax_scatter = fig.add_subplot(111, projection=\"3d\")\n",
    "\n",
    "scatter = ax_scatter.scatter([], [], [], s=50, c=\"blue\", animated=True)\n",
    "\n",
    "# Setze die Achsenlimits basierend auf `size`\n",
    "ax_scatter.set_xlim(-size , size)\n",
    "ax_scatter.set_ylim(-size, size)\n",
    "ax_scatter.set_zlim(-size, size)\n",
    "\n",
    "ax_scatter.set_xlabel(\"X-coordinate\")\n",
    "ax_scatter.set_ylabel(\"Y-coordinate\")\n",
    "ax_scatter.set_zlabel(\"Z-coordinate\")\n",
    "ax_scatter.set_title(\"3D-Simulation Animation\")\n",
    "\n",
    "# Update-Funktion für die Animation\n",
    "def update(frame):\n",
    "    \"\"\"Aktualisiert die Positionen der Körper für jeden Zeitschritt.\"\"\"\n",
    "    points = coordinates[frame]\n",
    "    scatter._offsets3d = (points[:, 0], points[:, 1], points[:, 2])  # X, Y, Z aktualisieren\n",
    "    ax_scatter.set_title(f\"Time Step {frame}\")\n",
    "    return scatter,\n",
    "\n",
    "print(\"Creating animation...\")\n",
    "start_time_animation = time.time()\n",
    "\n",
    "# Erstelle die Animation\n",
    "ani = FuncAnimation(fig, update, frames=len(timesteps), blit=False, interval=50)\n",
    "\n",
    "plt.close()  # Verhindert doppelte Anzeige\n",
    "\n",
    "# Animation in Jupyter anzeigen\n",
    "display(HTML(ani.to_jshtml()))\n",
    "\n",
    "end_time_animation = time.time()\n",
    "print(f\"I took {round(end_time_animation - start_time_animation, 2)} seconds to create the animation.\")\n"
   ]
  }
 ],
 "metadata": {
  "kernelspec": {
   "display_name": "Python 3",
   "language": "python",
   "name": "python3"
  },
  "language_info": {
   "codemirror_mode": {
    "name": "ipython",
    "version": 3
   },
   "file_extension": ".py",
   "mimetype": "text/x-python",
   "name": "python",
   "nbconvert_exporter": "python",
   "pygments_lexer": "ipython3",
   "version": "3.12.1"
  }
 },
 "nbformat": 4,
 "nbformat_minor": 2
}
